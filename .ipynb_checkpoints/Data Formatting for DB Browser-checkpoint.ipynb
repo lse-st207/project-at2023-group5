{
 "cells": [
  {
   "cell_type": "code",
   "execution_count": 2,
   "id": "c0eb9a61",
   "metadata": {},
   "outputs": [],
   "source": [
    "import pandas as pd"
   ]
  },
  {
   "cell_type": "code",
   "execution_count": 3,
   "id": "0e798367",
   "metadata": {},
   "outputs": [],
   "source": [
    "main_cafe = pd.read_csv('cafe.csv')\n"
   ]
  },
  {
   "cell_type": "code",
   "execution_count": 5,
   "id": "e21e0a65",
   "metadata": {},
   "outputs": [
    {
     "data": {
      "text/html": [
       "<div>\n",
       "<style scoped>\n",
       "    .dataframe tbody tr th:only-of-type {\n",
       "        vertical-align: middle;\n",
       "    }\n",
       "\n",
       "    .dataframe tbody tr th {\n",
       "        vertical-align: top;\n",
       "    }\n",
       "\n",
       "    .dataframe thead th {\n",
       "        text-align: right;\n",
       "    }\n",
       "</style>\n",
       "<table border=\"1\" class=\"dataframe\">\n",
       "  <thead>\n",
       "    <tr style=\"text-align: right;\">\n",
       "      <th></th>\n",
       "      <th>Name</th>\n",
       "      <th>Types</th>\n",
       "      <th>Rating</th>\n",
       "      <th>User Ratings Total</th>\n",
       "      <th>Vicinity</th>\n",
       "      <th>lat</th>\n",
       "      <th>lng</th>\n",
       "    </tr>\n",
       "  </thead>\n",
       "  <tbody>\n",
       "    <tr>\n",
       "      <th>0</th>\n",
       "      <td>Take a Break</td>\n",
       "      <td>['cafe', 'food', 'point_of_interest', 'establi...</td>\n",
       "      <td>3.9</td>\n",
       "      <td>39.0</td>\n",
       "      <td>244 Oxlow Lane, Dagenham</td>\n",
       "      <td>51.551026</td>\n",
       "      <td>0.154796</td>\n",
       "    </tr>\n",
       "    <tr>\n",
       "      <th>1</th>\n",
       "      <td>Asda Dagenham Superstore</td>\n",
       "      <td>['supermarket', 'gas_station', 'atm', 'cafe', ...</td>\n",
       "      <td>3.6</td>\n",
       "      <td>817.0</td>\n",
       "      <td>Merrielands Crescent, Dagenham</td>\n",
       "      <td>51.529501</td>\n",
       "      <td>0.139635</td>\n",
       "    </tr>\n",
       "    <tr>\n",
       "      <th>2</th>\n",
       "      <td>Becontree Heath Leisure Centre</td>\n",
       "      <td>['gym', 'cafe', 'school', 'health', 'food', 'p...</td>\n",
       "      <td>3.6</td>\n",
       "      <td>823.0</td>\n",
       "      <td>Althorne Way, Dagenham</td>\n",
       "      <td>51.560947</td>\n",
       "      <td>0.148899</td>\n",
       "    </tr>\n",
       "    <tr>\n",
       "      <th>3</th>\n",
       "      <td>Harrow Lodge Leisure Centre</td>\n",
       "      <td>['cafe', 'gym', 'school', 'general_contractor'...</td>\n",
       "      <td>3.8</td>\n",
       "      <td>391.0</td>\n",
       "      <td>Hornchurch Road, Hornchurch</td>\n",
       "      <td>51.563291</td>\n",
       "      <td>0.208940</td>\n",
       "    </tr>\n",
       "    <tr>\n",
       "      <th>4</th>\n",
       "      <td>Eastbrook Cafe &amp; Restuarant</td>\n",
       "      <td>['restaurant', 'meal_delivery', 'meal_takeaway...</td>\n",
       "      <td>4.3</td>\n",
       "      <td>91.0</td>\n",
       "      <td>264 Rainham Road South, Dagenham</td>\n",
       "      <td>51.550821</td>\n",
       "      <td>0.161418</td>\n",
       "    </tr>\n",
       "  </tbody>\n",
       "</table>\n",
       "</div>"
      ],
      "text/plain": [
       "                             Name  \\\n",
       "0                    Take a Break   \n",
       "1        Asda Dagenham Superstore   \n",
       "2  Becontree Heath Leisure Centre   \n",
       "3     Harrow Lodge Leisure Centre   \n",
       "4     Eastbrook Cafe & Restuarant   \n",
       "\n",
       "                                               Types  Rating  \\\n",
       "0  ['cafe', 'food', 'point_of_interest', 'establi...     3.9   \n",
       "1  ['supermarket', 'gas_station', 'atm', 'cafe', ...     3.6   \n",
       "2  ['gym', 'cafe', 'school', 'health', 'food', 'p...     3.6   \n",
       "3  ['cafe', 'gym', 'school', 'general_contractor'...     3.8   \n",
       "4  ['restaurant', 'meal_delivery', 'meal_takeaway...     4.3   \n",
       "\n",
       "   User Ratings Total                          Vicinity        lat       lng  \n",
       "0                39.0          244 Oxlow Lane, Dagenham  51.551026  0.154796  \n",
       "1               817.0    Merrielands Crescent, Dagenham  51.529501  0.139635  \n",
       "2               823.0            Althorne Way, Dagenham  51.560947  0.148899  \n",
       "3               391.0       Hornchurch Road, Hornchurch  51.563291  0.208940  \n",
       "4                91.0  264 Rainham Road South, Dagenham  51.550821  0.161418  "
      ]
     },
     "execution_count": 5,
     "metadata": {},
     "output_type": "execute_result"
    }
   ],
   "source": [
    "main_cafe.head()"
   ]
  },
  {
   "cell_type": "code",
   "execution_count": null,
   "id": "d8b71fd9",
   "metadata": {},
   "outputs": [],
   "source": []
  }
 ],
 "metadata": {
  "kernelspec": {
   "display_name": "Python 3 (ipykernel)",
   "language": "python",
   "name": "python3"
  },
  "language_info": {
   "codemirror_mode": {
    "name": "ipython",
    "version": 3
   },
   "file_extension": ".py",
   "mimetype": "text/x-python",
   "name": "python",
   "nbconvert_exporter": "python",
   "pygments_lexer": "ipython3",
   "version": "3.9.13"
  }
 },
 "nbformat": 4,
 "nbformat_minor": 5
}

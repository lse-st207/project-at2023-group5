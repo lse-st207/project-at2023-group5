{
 "cells": [
  {
   "cell_type": "code",
   "execution_count": null,
   "id": "7db1bcca",
   "metadata": {},
   "outputs": [],
   "source": [
    "CREATE TABLE BOROUGH (\n",
    "Borough_Name VARCHAR(255),\n",
    "Converted_Coordinates VARCHAR(50),\n",
    "Borough_Population INTEGER,\n",
    "PRIMARY KEY(Converted_Coordinates)\n",
    ");\n",
    "\n",
    "CREATE TABLE CAFE (\n",
    "Cafe_Name VARCHAR(255),\n",
    "Place_Id VARCHAR(255),\n",
    "Cafe_Coordinates VARCHAR(255),\n",
    "Vicinity VARCHAR(255),\n",
    "Cafe_Types VARCHAR(255),\n",
    "Borough_Coordinates VARCHAR(255),\n",
    "PRIMARY KEY(Place_Id),\n",
    "FOREIGN KEY(Borough_Coordinates) REFERENCES BOROUGH(Converted_Coordinates)\n",
    ");\n",
    "\n",
    "CREATE TABLE RATING (\n",
    "Place_Id VARCHAR(255),\n",
    "Rating NUMERIC,\n",
    "Number_Ratings INTEGER,\n",
    "PRIMARY KEY(Place_Id),\n",
    "FOREIGN KEY(Place_Id) REFERENCES CAFE(Place_Id)\n",
    ");\n",
    "\n",
    "CREATE TABLE REVIEW (\n",
    "Place_Id VARCHAR(255),\n",
    "Review_Id VARCHAR(255),\n",
    "Author_Name VARCHAR(255),\n",
    "Review_Text VARCHAR,\n",
    "Relative_Time_Description VARCHAR(255),\n",
    "PRIMARY KEY(Review_Id),\n",
    "FOREIGN KEY(Place_Id) REFERENCES CAFE(Place_Id)\n",
    ");\n"
   ]
  },
  {
   "cell_type": "code",
   "execution_count": null,
   "id": "fc96c4da",
   "metadata": {},
   "outputs": [],
   "source": []
  }
 ],
 "metadata": {
  "kernelspec": {
   "display_name": "Python 3 (ipykernel)",
   "language": "python",
   "name": "python3"
  },
  "language_info": {
   "codemirror_mode": {
    "name": "ipython",
    "version": 3
   },
   "file_extension": ".py",
   "mimetype": "text/x-python",
   "name": "python",
   "nbconvert_exporter": "python",
   "pygments_lexer": "ipython3",
   "version": "3.9.13"
  }
 },
 "nbformat": 4,
 "nbformat_minor": 5
}
